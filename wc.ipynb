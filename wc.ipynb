{
 "cells": [
  {
   "cell_type": "code",
   "execution_count": 5,
   "id": "8272d3d3-e027-4a37-af6b-ce2c9b01f9f0",
   "metadata": {},
   "outputs": [],
   "source": [
    "import nbformat\n",
    "import pandas as pd\n",
    "import glob"
   ]
  },
  {
   "cell_type": "code",
   "execution_count": 2,
   "id": "4c554356-8ab3-4119-9043-874b9dc374f6",
   "metadata": {},
   "outputs": [],
   "source": [
    "def read_nb(nb_filename):\n",
    "    \"\"\"Read notebooks and return content.\"\"\"\n",
    "    with open(nb_filename, \"rb\") as nb_file:\n",
    "        txt = nb_file.read()\n",
    "    return nbformat.reads(txt, nbformat.NO_CONVERT)"
   ]
  },
  {
   "cell_type": "code",
   "execution_count": null,
   "id": "254dc2ec-ee54-4739-8c89-c274fcfe23d2",
   "metadata": {},
   "outputs": [],
   "source": [
    "path = r'/Users/khalilza/Desktop/Evaluation_Solutions/P2/*/*'\n",
    "notebooks1 = glob.glob(path + \"/*.ipynb\")\n",
    "path = r'/Users/khalilza/Desktop/Evaluation_Solutions/ip2/*/*'\n",
    "notebooks2 = glob.glob(path + \"/*.ipynb\")\n",
    "\n",
    "notebooks = notebooks1+notebooks2\n",
    "notebooks"
   ]
  },
  {
   "cell_type": "code",
   "execution_count": 35,
   "id": "6d64532e-73b1-4e6b-98af-35fb6807d652",
   "metadata": {},
   "outputs": [
    {
     "data": {
      "text/plain": [
       "(324, 208, 116)"
      ]
     },
     "execution_count": 35,
     "metadata": {},
     "output_type": "execute_result"
    }
   ],
   "source": [
    "len(notebooks),len(notebooks1),len(notebooks2)"
   ]
  },
  {
   "cell_type": "code",
   "execution_count": null,
   "id": "6e8e46e2-34a5-4f5c-a37c-988e99543b30",
   "metadata": {},
   "outputs": [],
   "source": []
  },
  {
   "cell_type": "code",
   "execution_count": 78,
   "id": "0cbeb793-f939-4262-bd5a-c3805a9a3201",
   "metadata": {},
   "outputs": [
    {
     "name": "stdout",
     "output_type": "stream",
     "text": [
      "Start checking Markdown comments\n"
     ]
    },
    {
     "name": "stderr",
     "output_type": "stream",
     "text": [
      "/var/folders/_g/8bvn35l91r74l4kv0hjkl4l00000gp/T/ipykernel_63347/1447504865.py:18: FutureWarning: The default dtype for empty Series will be 'object' instead of 'float64' in a future version. Specify a dtype explicitly to silence this warning.\n",
      "  word_count.append(pd.Series(MD).apply(lambda x: len(x.split())).sum())\n"
     ]
    }
   ],
   "source": [
    "# Go through all notebooks\n",
    "print(\"Start checking Markdown comments\")\n",
    "word_count = []\n",
    "cnt=0\n",
    "for nb in notebooks:\n",
    "    if 'rej' not in nb:\n",
    "        # Load notebook\n",
    "        nb_json = read_nb(nb)\n",
    "\n",
    "        # Collect markdowns \n",
    "        MD = []\n",
    "        for c in nb_json['cells']:\n",
    "            if c['cell_type']=='markdown':\n",
    "                MD.append(c['source'])\n",
    "        word_count.append(pd.Series(MD).apply(lambda x: len(x.split())).sum())\n",
    "        cnt+=1"
   ]
  },
  {
   "cell_type": "code",
   "execution_count": 80,
   "id": "c7a41cf4-ab59-4867-96a6-530948053318",
   "metadata": {},
   "outputs": [
    {
     "data": {
      "text/plain": [
       "240"
      ]
     },
     "execution_count": 80,
     "metadata": {},
     "output_type": "execute_result"
    }
   ],
   "source": [
    "cnt"
   ]
  },
  {
   "cell_type": "code",
   "execution_count": 84,
   "id": "4a4739bd-6787-4d6c-8e77-b482e7ab817e",
   "metadata": {},
   "outputs": [],
   "source": [
    "import matplotlib.pyplot as plt"
   ]
  },
  {
   "cell_type": "code",
   "execution_count": 92,
   "id": "3b5044af-52f3-4f93-8b38-c83c269c5ef1",
   "metadata": {},
   "outputs": [],
   "source": [
    "wc = pd.DataFrame(word_count)"
   ]
  },
  {
   "cell_type": "code",
   "execution_count": 99,
   "id": "0e181076-a243-4ed0-8228-3d9a3766fa39",
   "metadata": {},
   "outputs": [
    {
     "data": {
      "image/png": "[encoded data removed]",
      "text/plain": [
       "<Figure size 432x288 with 1 Axes>"
      ]
     },
     "metadata": {
      "needs_background": "light"
     },
     "output_type": "display_data"
    }
   ],
   "source": [
    "wc[wc<4000].hist(bins=20)\n",
    "plt.title('word count frequency of 240 projects');"
   ]
  },
  {
   "cell_type": "code",
   "execution_count": null,
   "id": "329c8095-7fe4-47c7-9ffa-84079a99f8d0",
   "metadata": {},
   "outputs": [],
   "source": []
  },
  {
   "cell_type": "code",
   "execution_count": null,
   "id": "3fe0c328-df62-48be-a903-dad5f5524eb2",
   "metadata": {},
   "outputs": [],
   "source": []
  }
 ],
 "metadata": {
  "kernelspec": {
   "display_name": "Python [conda env:adsml] *",
   "language": "python",
   "name": "conda-env-adsml-py"
  },
  "language_info": {
   "codemirror_mode": {
    "name": "ipython",
    "version": 3
   },
   "file_extension": ".py",
   "mimetype": "text/x-python",
   "name": "python",
   "nbconvert_exporter": "python",
   "pygments_lexer": "ipython3",
   "version": "3.9.7"
  }
 },
 "nbformat": 4,
 "nbformat_minor": 5
}
